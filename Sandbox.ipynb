{
 "cells": [
  {
   "cell_type": "code",
   "execution_count": 19,
   "metadata": {},
   "outputs": [
    {
     "name": "stdout",
     "output_type": "stream",
     "text": [
      "Category:  CRIME \n",
      "\n",
      "Headline:  There Were 2 Mass Shootings In Texas Last Week, But Only 1 On TV \n",
      "\n",
      "{'short_description': 'She left her husband. He killed their children. Just another day in America.', 'headline': 'There Were 2 Mass Shootings In Texas Last Week, But Only 1 On TV', 'date': '2018-05-26', 'link': 'https://www.huffingtonpost.com/entry/texas-amanda-painter-mass-shooting_us_5b081ab4e4b0802d69caad89', 'authors': 'Melissa Jeltsen', 'category': 'CRIME'}\n"
     ]
    }
   ],
   "source": [
    "import json\n",
    "from pprint import pprint\n",
    "\n",
    "file = open('data/News_Category_Dataset.json', \"r\")\n",
    "for i in file.readlines():\n",
    "    data = json.loads(i)\n",
    "    break\n",
    "file.close()\n",
    "\n",
    "print('Category: ', data['category'], '\\n')\n",
    "print('Headline: ', data['headline'], '\\n')\n",
    "print(data)"
   ]
  }
 ],
 "metadata": {
  "kernelspec": {
   "display_name": "Python [conda env:python36]",
   "language": "python",
   "name": "conda-env-python36-py"
  },
  "language_info": {
   "codemirror_mode": {
    "name": "ipython",
    "version": 3
   },
   "file_extension": ".py",
   "mimetype": "text/x-python",
   "name": "python",
   "nbconvert_exporter": "python",
   "pygments_lexer": "ipython3",
   "version": "3.6.6"
  }
 },
 "nbformat": 4,
 "nbformat_minor": 2
}
